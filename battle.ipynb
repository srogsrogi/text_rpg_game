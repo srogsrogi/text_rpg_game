{
 "cells": [
  {
   "cell_type": "code",
   "id": "26eca0078bf06b51",
   "metadata": {
    "ExecuteTime": {
     "end_time": "2025-06-12T08:52:02.578249Z",
     "start_time": "2025-06-12T08:52:01.928253Z"
    }
   },
   "source": [
    "import random\n",
    "import math\n",
    "import json\n",
    "import os\n",
    "import pandas as pd"
   ],
   "outputs": [],
   "execution_count": 1
  },
  {
   "metadata": {
    "ExecuteTime": {
     "end_time": "2025-06-12T08:52:04.858895Z",
     "start_time": "2025-06-12T08:52:04.832874Z"
    }
   },
   "cell_type": "code",
   "source": [
    "jobs = pd.read_csv('data\\\\csv\\\\jobs.csv')\n",
    "skills = pd.read_csv('data\\\\csv\\\\skills.csv')\n",
    "monsters = pd.read_csv('data\\\\csv\\\\monsters.csv')"
   ],
   "id": "1c303467ababbc23",
   "outputs": [],
   "execution_count": 2
  },
  {
   "metadata": {
    "ExecuteTime": {
     "end_time": "2025-06-04T09:49:14.219819Z",
     "start_time": "2025-06-04T09:49:14.208179Z"
    }
   },
   "cell_type": "code",
   "source": [
    "# 캐릭터 공통 클래스\n",
    "class Character(object):\n",
    "    def __init__(self, name, level, max_hp, hp, strength, dex):\n",
    "        self.name = name\n",
    "        self.level = level\n",
    "        self.max_hp = max_hp\n",
    "        self.hp = hp\n",
    "        self.strength = strength\n",
    "        self.dex = dex\n",
    "\n",
    "    def attack(self):\n",
    "        return self.strength * 3 + self.strength * random.randint(0, 2)\n",
    "\n",
    "    def take_damage(self, damage):\n",
    "        self.hp -= damage\n",
    "\n",
    "    def is_alive(self):\n",
    "        return self.hp > 0\n",
    "\n",
    "# 유저(플레이어) 클래스\n",
    "class Player(Character):\n",
    "    def __init__(self, name):\n",
    "        level = 1\n",
    "        max_hp = 150\n",
    "        hp = max_hp\n",
    "        strength = 5\n",
    "        dex = 5\n",
    "        int = 5\n",
    "        super().__init__(name, level, max_hp, hp, strength, dex)\n",
    "        self.exp = 0\n",
    "        self.dex = 5\n",
    "        self.int = 5\n",
    "\n",
    "    def gain_exp(self, exp):\n",
    "        self.exp += exp\n",
    "\n",
    "    def required_exp(self):\n",
    "        return 10 + round(self.level ** 1.5)\n",
    "\n",
    "    def level_up(self):\n",
    "        self.strength += 1\n",
    "        self.dex += 1\n",
    "        self.int += 1\n",
    "        self.max_hp += 20\n",
    "        self.exp -= self.required_exp()\n",
    "        self.level += 1\n",
    "\n",
    "    def to_dict(self):\n",
    "        return {\n",
    "            'name': self.name,\n",
    "            'level': self.level,\n",
    "            'max_hp': self.max_hp,\n",
    "            'strength': self.strength,\n",
    "            'dex' : self.dex,\n",
    "            'int' : self.int,\n",
    "            'exp' : self.exp,\n",
    "        }\n",
    "\n",
    "    def save(self, filename):\n",
    "        # 기존 데이터가 있는 경우 로드\n",
    "        if os.path.exists(filename):\n",
    "            with open(filename, 'r') as f:\n",
    "                data = json.load(f)\n",
    "        else:\n",
    "            data = {}\n",
    "\n",
    "        # 플레이어 정보 저장\n",
    "        data[self.name] = self.to_dict()\n",
    "\n",
    "        with open(filename, 'w') as f:\n",
    "            json.dump(data, f, indent=4, ensure_ascii=False)\n",
    "\n",
    "    @classmethod\n",
    "    def load(cls, name, filename='players.json'):\n",
    "        if not os.path.exists(filename):\n",
    "            raise FileNotFoundError('저장된 플레이어 파일이 없습니다.')\n",
    "\n",
    "        with open(filename, 'r', encoding='utf-8') as f:\n",
    "            data = json.load(f)\n",
    "\n",
    "        if name not in data:\n",
    "            raise ValueError(f\"'{name}' 플레이어 파일이 없습니다.\")\n",
    "\n",
    "        info = data[name]\n",
    "        player = cls(name)\n",
    "        player.level = info['level']\n",
    "        player.max_hp = info['max_hp']\n",
    "        player.strength = info['strength']\n",
    "        player.dex = info['dex']\n",
    "        player.int = info['int']\n",
    "        player.exp = info['exp']\n",
    "        return player\n",
    "\n",
    "# 몬스터 클래스\n",
    "class Enemy(Character):\n",
    "    def __init__(self, name, level):\n",
    "        strength = level + 2\n",
    "        dex = level + 2\n",
    "        max_hp = 140 +level * 18\n",
    "        hp = max_hp\n",
    "        super().__init__(name, level, max_hp, hp, strength, dex)\n",
    "        self.exp_reward = 3 + round(level ** 1.2)"
   ],
   "id": "f53340871d97c64b",
   "outputs": [],
   "execution_count": 219
  },
  {
   "metadata": {
    "ExecuteTime": {
     "end_time": "2025-06-04T09:49:19.069615Z",
     "start_time": "2025-06-04T09:49:17.042050Z"
    }
   },
   "cell_type": "code",
   "source": [
    "# 로그인 또는 캐릭터 생성\n",
    "username = input('캐릭터 아이디를 입력하세요. 새로운 아이디가 입력될 경우 신규 캐릭터가 생성됩니다.')\n",
    "try:\n",
    "    player = Player.load(username, 'players.json')\n",
    "    print(f'{username}님의 정보를 불러왔습니다.')\n",
    "except(FileNotFoundError, ValueError) as e:\n",
    "    print(f'{username}님은 처음 접속하셨습니다. 신규 캐릭터를 생성합니다.')\n",
    "    player = Player(username)\n",
    "    player.save('players.json')"
   ],
   "id": "35507bbb696a0755",
   "outputs": [
    {
     "name": "stdout",
     "output_type": "stream",
     "text": [
      "hg님의 정보를 불러왔습니다.\n"
     ]
    }
   ],
   "execution_count": 220
  },
  {
   "metadata": {
    "ExecuteTime": {
     "end_time": "2025-06-04T09:49:21.428802Z",
     "start_time": "2025-06-04T09:49:21.421930Z"
    }
   },
   "cell_type": "code",
   "source": [
    "# 전투\n",
    "def battle(player, enemy):\n",
    "    log = []\n",
    "    turn = 1\n",
    "    player.hp = player.max_hp\n",
    "    while player.is_alive() and enemy.is_alive():\n",
    "        log.append(f\"{turn}턴입니다.\\n\")\n",
    "\n",
    "        # 플레이어 선공\n",
    "        evasion_chance = max(0.05, min((enemy.dex - player.dex) * 0.03, 0.8))\n",
    "        if random.random() < evasion_chance:\n",
    "            log.append(\"적이 회피했습니다!\\n\")\n",
    "        else:\n",
    "            player_dmg = player.attack()\n",
    "            enemy.take_damage(player_dmg)\n",
    "            log.append(f\"{player_dmg}의 피해를 입혔습니다!\\n\")\n",
    "\n",
    "        # 몬스터 처치시 보상 획득\n",
    "        if not enemy.is_alive():\n",
    "            log.append(\"전투에서 승리했습니다!\\n\")\n",
    "\n",
    "            player.gain_exp(enemy.exp_reward)\n",
    "            log.append(f\"{enemy.exp_reward}의 경험치를 획득했습니다.\")\n",
    "\n",
    "            if player.exp >= player.required_exp():\n",
    "                player.level_up()\n",
    "                log.append(\"\\n레벨 업! 올스탯 1과 최대hp 10이 증가합니다.\")\n",
    "\n",
    "            player.save('players.json')\n",
    "            break\n",
    "\n",
    "        # 몬스터 후공\n",
    "        evasion_chance = max(0.05, min((player.dex - enemy.dex) * 0.03, 0.8))\n",
    "        if random.random() < evasion_chance:\n",
    "            log.append('적의 공격을 회피했습니다!\\n')\n",
    "        else:\n",
    "            enemy_dmg = enemy.attack()\n",
    "            player.take_damage(enemy_dmg)\n",
    "            log.append(f\"{enemy_dmg}의 피해를 입었습니다!\\n\")\n",
    "        if not player.is_alive():\n",
    "            log.append(\"전투에서 패배했습니다.\")\n",
    "            player.hp = player.max_hp\n",
    "            player.save('players.json')\n",
    "            break\n",
    "        turn += 1\n",
    "    return log\n"
   ],
   "id": "eb5e34e4e7645157",
   "outputs": [],
   "execution_count": 221
  },
  {
   "metadata": {
    "ExecuteTime": {
     "end_time": "2025-06-04T09:49:27.814558Z",
     "start_time": "2025-06-04T09:49:27.805596Z"
    }
   },
   "cell_type": "code",
   "source": [
    "# 몬스터 설정\n",
    "enemy = Enemy(\"goblin\", 25)\n",
    "\n",
    "# 전투 테스트\n",
    "test_battle = battle(player, enemy)\n",
    "print(''.join(test_battle))"
   ],
   "id": "35c65e5c09e32e16",
   "outputs": [
    {
     "name": "stdout",
     "output_type": "stream",
     "text": [
      "1턴입니다.\n",
      "144의 피해를 입혔습니다!\n",
      "적의 공격을 회피했습니다!\n",
      "2턴입니다.\n",
      "108의 피해를 입혔습니다!\n",
      "108의 피해를 입었습니다!\n",
      "3턴입니다.\n",
      "144의 피해를 입혔습니다!\n",
      "81의 피해를 입었습니다!\n",
      "4턴입니다.\n",
      "144의 피해를 입혔습니다!\n",
      "135의 피해를 입었습니다!\n",
      "5턴입니다.\n",
      "144의 피해를 입혔습니다!\n",
      "전투에서 승리했습니다!\n",
      "51의 경험치를 획득했습니다.\n"
     ]
    }
   ],
   "execution_count": 224
  },
  {
   "metadata": {
    "ExecuteTime": {
     "end_time": "2025-06-04T09:47:26.271862Z",
     "start_time": "2025-06-04T09:47:26.264336Z"
    }
   },
   "cell_type": "code",
   "source": [
    "# 캐릭터 정보 확인 함수\n",
    "def view_user_stat(player):\n",
    "    print(f\"캐릭터명 : {player.name}\")\n",
    "    print(f\"레벨 : {player.level}\")\n",
    "    print(f\"최대 hp : {player.max_hp}\")\n",
    "    print(f\"힘 : {player.strength}\")\n",
    "    print(f\"민첩 : {player.dex}\")\n",
    "    print(f\"지능 : {player.int}\")\n"
   ],
   "id": "a85477b857940cf6",
   "outputs": [],
   "execution_count": 204
  },
  {
   "metadata": {
    "ExecuteTime": {
     "end_time": "2025-06-04T09:47:37.697107Z",
     "start_time": "2025-06-04T09:47:37.691894Z"
    }
   },
   "cell_type": "code",
   "source": "view_user_stat(player)",
   "id": "f8bc7b0b0fa24d43",
   "outputs": [
    {
     "name": "stdout",
     "output_type": "stream",
     "text": [
      "캐릭터명 : hg\n",
      "레벨 : 29\n",
      "최대 hp : 380\n",
      "힘 : 33\n",
      "민첩 : 33\n",
      "지능 : 33\n"
     ]
    }
   ],
   "execution_count": 206
  },
  {
   "metadata": {},
   "cell_type": "code",
   "outputs": [],
   "execution_count": null,
   "source": [
    "'''\n",
    "최대mp, 현재mp 스탯추가\n",
    "스킬 딕셔너리 만들기 : 각 스탯 계수 설정\n",
    "레벨업시 올릴 스탯 선택\n",
    "공격력, 방어력, 마공, 마방, 회피율, 크리율 등 파생스탯 생성\n",
    "인벤토리/아이템 추가(장비, 소비)\n",
    "전투시 행동 선택(공격/스킬 사용/아이템 사용 등)\n",
    "등장 몬스터 종류 다양화(랜덤 또는 제한적으로 선택가능하도록), 종류별 스탯도 다르게\n",
    "전투종료시 hp/mp 회복량 조정\n",
    "사망시 레벨 및 찍은 스탯 초기화/마법과 아이템은 계승\n",
    "층 올라가는 탑 형태로 연속전투 설계\n",
    "10층마다 보스(클리어시 특별보상). 몬스터 및 보스별 드랍테이블 필요\n",
    "보스는 스킬 사용 등 특별 패턴\n",
    "새 게임 시작시 들어갈 층 선택 가능, 미입력시 1층부터\n",
    "버프/디버프/상태이상\n",
    "전투 외 확률적인 이벤트 발생(부활찬스, 특별한 스킬/아이템 획득 등)\n",
    "층마다 전투가 좀더 길고 전략적 선택이 가능하도록 설계\n",
    "마법/아이템/전투방식에 시너지가 발생하도록 설계\n",
    "확률적 요소가 강하게 작동하도록 설계\n",
    "골드 획득(계승하지 않도록 해서 전략적인 활용/죽었을 때 상실감을 주는 요소로 쓰고 싶음)\n",
    "아이템 상점\n",
    "장비 강화(후순위)\n",
    "보스 난이도는 좀 어렵게, 기믹을 파훼하기 위해 특정 아이템이나 스킬 등 준비가 필요하도록 설계\n",
    "게임 시작시 로드할 캐릭터, 몬스터 정보 등은 csv파일로 관리, 중첩구조가 필요한 데이터 등은 json으로 관리\n",
    "\n",
    "'''\n"
   ],
   "id": "c04ac01650005120"
  }
 ],
 "metadata": {
  "kernelspec": {
   "display_name": "Python 3",
   "language": "python",
   "name": "python3"
  },
  "language_info": {
   "codemirror_mode": {
    "name": "ipython",
    "version": 2
   },
   "file_extension": ".py",
   "mimetype": "text/x-python",
   "name": "python",
   "nbconvert_exporter": "python",
   "pygments_lexer": "ipython2",
   "version": "2.7.6"
  }
 },
 "nbformat": 4,
 "nbformat_minor": 5
}
